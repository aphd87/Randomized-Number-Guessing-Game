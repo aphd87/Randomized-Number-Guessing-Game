{
 "cells": [
  {
   "cell_type": "code",
   "execution_count": 1,
   "id": "23612233",
   "metadata": {},
   "outputs": [],
   "source": [
    "#Number guessing game\n",
    "#Version 1\n",
    "CORRECT_NUMBER = 26"
   ]
  },
  {
   "cell_type": "code",
   "execution_count": 2,
   "id": "11705aea",
   "metadata": {},
   "outputs": [
    {
     "name": "stdout",
     "output_type": "stream",
     "text": [
      "What is your guess? 26\n"
     ]
    }
   ],
   "source": [
    "user_guess = int(input(\"What is your guess? \"))"
   ]
  },
  {
   "cell_type": "code",
   "execution_count": 3,
   "id": "f737d864",
   "metadata": {},
   "outputs": [
    {
     "name": "stdout",
     "output_type": "stream",
     "text": [
      "Wow, you got it - great guessing!\n"
     ]
    }
   ],
   "source": [
    "if user_guess == CORRECT_NUMBER:\n",
    "    print(\"Wow, you got it - great guessing!\")\n",
    "else:\n",
    "    print(\"Sorry, your guess is incorrect\")"
   ]
  },
  {
   "cell_type": "code",
   "execution_count": 4,
   "id": "57e41e87",
   "metadata": {},
   "outputs": [],
   "source": [
    "#A while loop will allow people to guess at multiple times here. In V1, there's only one option for guessing "
   ]
  },
  {
   "cell_type": "code",
   "execution_count": 5,
   "id": "715a5f9b",
   "metadata": {},
   "outputs": [
    {
     "name": "stdout",
     "output_type": "stream",
     "text": [
      "What is your guess? 26\n",
      "Wow, you got it - great guessing!\n"
     ]
    }
   ],
   "source": [
    "#Version 2\n",
    "\n",
    "CORRECT_NUMBER = 26\n",
    "while True: #Keep running the loop until you're told to stop based on a break\n",
    "    user_guess = int(input(\"What is your guess? \"))\n",
    "    \n",
    "    if user_guess == CORRECT_NUMBER:\n",
    "        print(\"Wow, you got it - great guessing!\")\n",
    "        break\n",
    "    else:\n",
    "        print(\"Sorry, your guess is incorrect\")"
   ]
  },
  {
   "cell_type": "code",
   "execution_count": 6,
   "id": "91f9a9cd",
   "metadata": {},
   "outputs": [
    {
     "name": "stdout",
     "output_type": "stream",
     "text": [
      "Try guessing the number that I'm thinking. It is between LOWER_BOUND and UPPER_BOUND. GOOD LUCK, YOU HAVE 5 guesses!\n",
      "What is your guess? 45\n",
      "Your guess is too low, try again! Guesses remaining: 4\n",
      "What is your guess? 20\n",
      "Your guess is too low, try again! Guesses remaining: 3\n",
      "What is your guess? 85\n",
      "Your guess is too low, try again! Guesses remaining: 2\n",
      "What is your guess? 95\n",
      "Your guess is too low, try again! Guesses remaining: 1\n",
      "What is your guess? 100\n",
      "Sorry, your guess is too high, try again! Guesses remaining: 0\n",
      "Sorry, you're out of guesses. The number you were after was 96\n"
     ]
    }
   ],
   "source": [
    "#Version 3\n",
    "\n",
    "#Random module built in here\n",
    "\n",
    "import random\n",
    "random.randint(1,10) #1 for lower bound, 10 for upper bound\n",
    "\n",
    "LOWER_BOUND = 1\n",
    "UPPER_BOUND = 100\n",
    "GUESS_LIMIT = 5\n",
    "GUESS_COUNTER = 0\n",
    "CORRECT_NUMBER = random.randint(LOWER_BOUND,UPPER_BOUND)\n",
    "\n",
    "print(f\"Try guessing the number that I'm thinking. It is between {'LOWER_BOUND'} and {'UPPER_BOUND'}. GOOD LUCK, YOU HAVE {GUESS_LIMIT} guesses!\")\n",
    "\n",
    "while True: #Keep running the loop until you're told to stop based on a break\n",
    "    user_guess = int(input(\"What is your guess? \"))\n",
    "    GUESS_COUNTER += 1\n",
    "    remaining_guesses = GUESS_LIMIT - GUESS_COUNTER\n",
    "    \n",
    "    if LOWER_BOUND <= user_guess <= UPPER_BOUND:\n",
    "        if user_guess == CORRECT_NUMBER: \n",
    "            print(f\"Wow, you got it in {'GUESS_COUNTER'} guesses - well done!\")\n",
    "            break\n",
    "        elif user_guess < CORRECT_NUMBER:\n",
    "            print(f\"Your guess is too low, try again! Guesses remaining: {remaining_guesses}\")\n",
    "        else:\n",
    "            print(f\"Sorry, your guess is too high, try again! Guesses remaining: {remaining_guesses}\")\n",
    "    else:\n",
    "        print(f\"Your guess is outside the range, try a guess between {'LOWER_BOUND'} and {'UPPER_BOUND'}. Guesses remaining: {remaining_guesses}\")\n",
    "    if remaining_guesses == 0:\n",
    "        print(f\"Sorry, you're out of guesses. The number you were after was {CORRECT_NUMBER}\")\n",
    "        break"
   ]
  },
  {
   "cell_type": "code",
   "execution_count": null,
   "id": "f114b31f",
   "metadata": {},
   "outputs": [],
   "source": []
  }
 ],
 "metadata": {
  "kernelspec": {
   "display_name": "Python 3 (ipykernel)",
   "language": "python",
   "name": "python3"
  },
  "language_info": {
   "codemirror_mode": {
    "name": "ipython",
    "version": 3
   },
   "file_extension": ".py",
   "mimetype": "text/x-python",
   "name": "python",
   "nbconvert_exporter": "python",
   "pygments_lexer": "ipython3",
   "version": "3.11.5"
  }
 },
 "nbformat": 4,
 "nbformat_minor": 5
}
